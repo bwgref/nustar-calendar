{
 "cells": [
  {
   "cell_type": "code",
   "execution_count": 2,
   "metadata": {
    "collapsed": false
   },
   "outputs": [],
   "source": [
    "import httplib2\n",
    "import os\n",
    "import re\n",
    "\n",
    "\n",
    "\n",
    "from apiclient import discovery\n",
    "import oauth2client\n",
    "from oauth2client import client\n",
    "from oauth2client import tools\n",
    "\n",
    "import datetime\n",
    "\n",
    "# try:\n",
    "#     import argparse\n",
    "#     flags = argparse.ArgumentParser(parents=[tools.argparser]).parse_args()\n",
    "# except ImportError:\n",
    "flags = None\n",
    "\n",
    "SCOPES = 'https://www.googleapis.com/auth/calendar'\n",
    "CLIENT_SECRET_FILE = 'client_secret.json'\n",
    "APPLICATION_NAME = 'NuSTAR Calendar'"
   ]
  },
  {
   "cell_type": "code",
   "execution_count": 3,
   "metadata": {
    "collapsed": true
   },
   "outputs": [],
   "source": [
    "def get_credentials():\n",
    "    \"\"\"Gets valid user credentials from storage.\n",
    "\n",
    "    If nothing has been stored, or if the stored credentials are invalid,\n",
    "    the OAuth2 flow is completed to obtain the new credentials.\n",
    "\n",
    "    Returns:\n",
    "        Credentials, the obtained credential.\n",
    "    \"\"\"\n",
    "    home_dir = os.path.expanduser('~')\n",
    "    credential_dir = os.path.join(home_dir, '.credentials')\n",
    "    if not os.path.exists(credential_dir):\n",
    "        os.makedirs(credential_dir)\n",
    "    credential_path = os.path.join(credential_dir,\n",
    "                                   'calendar-quickstart.json')\n",
    "\n",
    "    store = oauth2client.file.Storage(credential_path)\n",
    "    credentials = store.get()\n",
    "    if not credentials or credentials.invalid:\n",
    "        flow = client.flow_from_clientsecrets(CLIENT_SECRET_FILE, SCOPES)\n",
    "        flow.user_agent = APPLICATION_NAME\n",
    "        if flags:\n",
    "            credentials = tools.run_flow(flow, store, flags)\n",
    "        else: # Needed only for compatability with Python 2.6\n",
    "            credentials = tools.run(flow, store)\n",
    "        print('Storing credentials to ' + credential_path)\n",
    "    return credentials"
   ]
  },
  {
   "cell_type": "code",
   "execution_count": 11,
   "metadata": {
    "collapsed": false
   },
   "outputs": [
    {
     "name": "stdout",
     "output_type": "stream",
     "text": [
      "Getting the upcoming 10 events\n",
      "2016-10-27T12:30:00-07:00 Test\n"
     ]
    }
   ],
   "source": [
    "\"\"\"Shows basic usage of the Google Calendar API.\n",
    "\n",
    "Creates a Google Calendar API service object and outputs a list of the next\n",
    "10 events on the user's calendar.\n",
    "\"\"\"\n",
    "credentials = get_credentials()\n",
    "http = credentials.authorize(httplib2.Http())\n",
    "service = discovery.build('calendar', 'v3', http=http)\n",
    "\n",
    "now = datetime.datetime.utcnow().isoformat() + 'Z' # 'Z' indicates UTC time\n",
    "\n",
    "print('Getting the upcoming 10 events')\n",
    "eventsResult = service.events().list(\n",
    "    calendarId='primary', timeMin=now, maxResults=10, singleEvents=True,\n",
    "    orderBy='startTime').execute()\n",
    "events = eventsResult.get('items', [])\n",
    "\n",
    "if not events:\n",
    "    print('No upcoming events found.')\n",
    "for event in events:\n",
    "    start = event['start'].get('dateTime', event['start'].get('date'))\n",
    "    print(start, event['summary'])"
   ]
  },
  {
   "cell_type": "code",
   "execution_count": 127,
   "metadata": {
    "collapsed": false
   },
   "outputs": [],
   "source": [
    "def add_event(start, stop, name):\n",
    "    eventadd = service.events().quickAdd(\n",
    "        calendarId='primary',\n",
    "        text=name\n",
    "        ).execute()\n",
    "    eventadd['start']['dateTime']=start\n",
    "    eventadd['end']['dateTime'] = stop\n",
    "    updateEvent = service.events().update(\n",
    "        calendarId='primary',eventId=eventadd['id'],\n",
    "        body=eventadd\n",
    "    ).execute()\n",
    "    return"
   ]
  },
  {
   "cell_type": "code",
   "execution_count": 152,
   "metadata": {
    "collapsed": true
   },
   "outputs": [],
   "source": [
    "def cleanup_calendar(limitdays):\n",
    "\n",
    "    now = datetime.datetime.utcnow()\n",
    "    limit = (now + datetime.timedelta(-limitdays))\n",
    "    limstr = limit.isoformat()+'Z'\n",
    "    \n",
    "    \n",
    "    print('Getting the previous '+str(limit)+' days')\n",
    "    eventsResult = service.events().list(\n",
    "        calendarId='primary', timeMin=limstr, singleEvents=True,\n",
    "        orderBy='startTime').execute()\n",
    "    events = eventsResult.get('items', [])\n",
    "\n",
    "    if not events:\n",
    "        print('No upcoming events found.')\n",
    "    for event in events:\n",
    "        start = event['start'].get('dateTime', event['start'].get('date'))\n",
    "        print('Removing: ',start, event['summary'])\n",
    "\n",
    "        service.events().delete(\n",
    "            calendarId='primary',\n",
    "            eventId=event['id']).execute()"
   ]
  },
  {
   "cell_type": "code",
   "execution_count": 154,
   "metadata": {
    "collapsed": false
   },
   "outputs": [],
   "source": [
    "def populate_calendar(limit):\n",
    "    \n",
    "    now = datetime.datetime.utcnow()\n",
    "\n",
    "    f = open('observing_schedule.txt', 'r')\n",
    "    for line in f:\n",
    "        if line.startswith(\";\"):\n",
    "            continue\n",
    "        fields = line.split()\n",
    "\n",
    "        dtm = fields[0].split(':')\n",
    "        start_time = datetime.datetime.strptime(dtm[0]+' ' +dtm[1]+' '+dtm[2]+' '+dtm[3]+' '+dtm[4], '%Y %j %H %M %S')\n",
    "\n",
    "        dtm = fields[1].split(':')\n",
    "        end_time = datetime.datetime.strptime(dtm[0]+' ' +dtm[1]+' '+dtm[2]+' '+dtm[3]+' '+dtm[4], '%Y %j %H %M %S')\n",
    "\n",
    "        if (now - start_time).days > abs(limit):\n",
    "            break\n",
    "        seqid = fields[2]\n",
    "        seqname=fields[3]\n",
    "\n",
    "        print('Adding: ', start_time.isoformat()+'Z', end_time.isoformat()+'Z', seqid+' '+seqname)\n",
    "        add_event(start_time.isoformat()+'Z', end_time.isoformat()+'Z', seqid+' '+seqname)\n",
    "\n"
   ]
  },
  {
   "cell_type": "code",
   "execution_count": 156,
   "metadata": {
    "collapsed": false
   },
   "outputs": [
    {
     "name": "stdout",
     "output_type": "stream",
     "text": [
      "Getting the previous 30 days\n",
      "Removing:  2016-10-11T19:51:00-07:00 60111039001 UDS_MOS039\n",
      "Removing:  2016-10-12T23:11:00-07:00 60111040001 UDS_MOS040\n",
      "Removing:  2016-10-14T02:41:15-07:00 60111041001 UDS_MOS041\n",
      "Removing:  2016-10-15T06:05:00-07:00 60160148001 MCGp00m09m042\n",
      "Removing:  2016-10-15T06:15:09-07:00 60160148002 MCGp00m09m042\n",
      "Removing:  2016-10-15T19:03:39-07:00 90201039001 IC342_X1\n",
      "Removing:  2016-10-15T19:10:14-07:00 90201039002 IC342_X1\n",
      "Removing:  2016-10-16T20:14:06-07:00 60202015009 3C_382\n",
      "Removing:  2016-10-16T20:20:08-07:00 60202015010 3C_382\n",
      "Removing:  2016-10-17T08:13:34-07:00 40201014001 N157B\n",
      "Removing:  2016-10-17T08:20:22-07:00 40201014002 N157B\n",
      "Removing:  2016-10-19T07:52:56-07:00 80102101003 GRS_1739m278\n",
      "Removing:  2016-10-19T08:00:03-07:00 80102101004 GRS_1739m278\n",
      "Removing:  2016-10-19T22:59:38-07:00 90201040001 CI_Cam\n",
      "Removing:  2016-10-19T23:05:08-07:00 90201040002 CI_Cam\n",
      "Removing:  2016-10-20T09:47:24-07:00 30201013001 SGR_1900p14\n",
      "Removing:  2016-10-20T09:55:18-07:00 30201013002 SGR_1900p14\n",
      "Removing:  2016-10-23T05:29:26-07:00 60201045001 PKS_2004m447\n",
      "Removing:  2016-10-23T05:35:09-07:00 60201045002 PKS_2004m447\n",
      "Removing:  2016-10-24T12:21:22-07:00 30202004007 SMC_X1\n",
      "Removing:  2016-10-24T12:30:07-07:00 30202004008 SMC_X1\n",
      "Removing:  2016-10-25T00:58:15-07:00 60061295001 2MASXJ20005575m1810274\n",
      "Removing:  2016-10-25T01:05:01-07:00 60061295002 2MASXJ20005575m1810274\n",
      "Removing:  2016-10-25T13:18:49-07:00 60201050001 NGC_3998\n",
      "Removing:  2016-10-25T13:25:20-07:00 60201050002 NGC_3998\n",
      "Removing:  2016-10-27T19:03:25-07:00 60160729001 PKS2008m159\n",
      "Removing:  2016-10-27T19:10:02-07:00 60160729002 PKS2008m159\n",
      "Removing:  2016-10-28T06:09:10-07:00 40202001001 SgrA_molecular_clouds\n",
      "Removing:  2016-10-28T06:16:27-07:00 40202001002 SgrA_molecular_clouds\n",
      "Removing:  2016-10-31T13:00:01-07:00 10201001001 SADA_2016_305_52\n",
      "Removing:  2016-10-31T13:15:07-07:00 80102101005 GRS_1739m278\n",
      "Removing:  2016-11-01T03:54:59-07:00 40202013003 SN2014C\n",
      "Removing:  2016-11-01T04:00:12-07:00 40202013004 SN2014C\n"
     ]
    }
   ],
   "source": [
    "cleanup_calendar(15)\n",
    "populate_calendar(15)"
   ]
  },
  {
   "cell_type": "code",
   "execution_count": 149,
   "metadata": {
    "collapsed": false
   },
   "outputs": [
    {
     "name": "stdout",
     "output_type": "stream",
     "text": [
      "1\n"
     ]
    }
   ],
   "source": []
  },
  {
   "cell_type": "code",
   "execution_count": null,
   "metadata": {
    "collapsed": true
   },
   "outputs": [],
   "source": []
  }
 ],
 "metadata": {
  "kernelspec": {
   "display_name": "Python [default]",
   "language": "python",
   "name": "python3"
  },
  "language_info": {
   "codemirror_mode": {
    "name": "ipython",
    "version": 3
   },
   "file_extension": ".py",
   "mimetype": "text/x-python",
   "name": "python",
   "nbconvert_exporter": "python",
   "pygments_lexer": "ipython3",
   "version": "3.5.1"
  }
 },
 "nbformat": 4,
 "nbformat_minor": 0
}
